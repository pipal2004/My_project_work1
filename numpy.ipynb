{
  "nbformat": 4,
  "nbformat_minor": 0,
  "metadata": {
    "colab": {
      "provenance": [],
      "authorship_tag": "ABX9TyNvV5fREFEf14p8umTVp9h4",
      "include_colab_link": true
    },
    "kernelspec": {
      "name": "python3",
      "display_name": "Python 3"
    },
    "language_info": {
      "name": "python"
    }
  },
  "cells": [
    {
      "cell_type": "markdown",
      "metadata": {
        "id": "view-in-github",
        "colab_type": "text"
      },
      "source": [
        "<a href=\"https://colab.research.google.com/github/pipal2004/My_project_work1/blob/main/numpy.ipynb\" target=\"_parent\"><img src=\"https://colab.research.google.com/assets/colab-badge.svg\" alt=\"Open In Colab\"/></a>"
      ]
    },
    {
      "cell_type": "markdown",
      "source": [
        "Task1"
      ],
      "metadata": {
        "id": "BRFnRasAOnOY"
      }
    },
    {
      "cell_type": "markdown",
      "source": [
        "Array creation (array, arange, linspace, zeros, ones, eye)\n"
      ],
      "metadata": {
        "id": "JNjwPoUfOrUv"
      }
    },
    {
      "cell_type": "code",
      "execution_count": null,
      "metadata": {
        "colab": {
          "base_uri": "https://localhost:8080/"
        },
        "id": "jRHR0hzSOWd3",
        "outputId": "0341bca6-3d42-4718-8809-30bd942c780f"
      },
      "outputs": [
        {
          "output_type": "stream",
          "name": "stdout",
          "text": [
            "array(): [1 3 5 2 1 6 0]\n",
            "arange(): [1 3 5]\n",
            "linspace(): [ 0.  5. 10. 15. 20.]\n",
            "zeros():\n",
            " [[0. 0.]\n",
            " [0. 0.]\n",
            " [0. 0.]]\n",
            "ones():\n",
            " [[1. 1. 1.]\n",
            " [1. 1. 1.]\n",
            " [1. 1. 1.]]\n",
            "eye():\n",
            " [[1. 0. 0. 0. 0.]\n",
            " [0. 1. 0. 0. 0.]\n",
            " [0. 0. 1. 0. 0.]\n",
            " [0. 0. 0. 1. 0.]\n",
            " [0. 0. 0. 0. 1.]]\n"
          ]
        }
      ],
      "source": [
        "import numpy as np\n",
        "arr=np.array([1,3,5,2,1,6,0])\n",
        "print(\"array():\",arr)\n",
        "r = np.arange(1, 7, 2)\n",
        "print(\"arange():\",r)\n",
        "l= np.linspace(0, 20, 5)\n",
        "print(\"linspace():\",l)\n",
        "z= np.zeros((3, 2))\n",
        "print(\"zeros():\\n\", z)\n",
        "o=np.ones((3,3))\n",
        "print(\"ones():\\n\",o)\n",
        "e=np.eye(5)\n",
        "print(\"eye():\\n\",e)"
      ]
    },
    {
      "cell_type": "markdown",
      "source": [
        "Indexing and slicing\n"
      ],
      "metadata": {
        "id": "i9Shx5Yx_V3H"
      }
    },
    {
      "cell_type": "code",
      "source": [
        "import numpy as np\n",
        "#INDEXING\n",
        "#1D array\n",
        "array1=np.array([23,44,54,69,73,20])\n",
        "print(array1)\n",
        "print(\"Element at index 2 is:\",array1[2])\n",
        "print(\"Last element of array :\", array1[-1])\n",
        "#2D array\n",
        "array2=np.array([[1,2,3],[9,4,6],[4,4,0]])\n",
        "print(array2)\n",
        "print(\"Element at row=2 and column=1 is:\",array2[2,1])\n",
        "print(\"entire column 1:\",array2[:,1])\n",
        "print(\"Entire row2:\",array2[2])\n",
        "#SLICING\n",
        "#1D array\n",
        "print(array1[0:5:2])\n",
        "print(\"first 3 elements:\",array1[:3])\n",
        "print(\"every second element:\",array1[::2])\n",
        "print(\"Last 3 elements:\", array1[-3:])\n",
        "#2Darray\n",
        "print(\"elements from row=0 to col=1:\\n\",array2[0:2, 1:3])\n",
        "print(\"elements of all rows and every 2nd column:\\n\",array2[:, ::2])\n",
        "print(\"all columns, every 2nd row:\\n\",array2[::2,:])"
      ],
      "metadata": {
        "colab": {
          "base_uri": "https://localhost:8080/"
        },
        "id": "CWIaC0HN5rcf",
        "outputId": "2887dd4b-b8e4-4982-8df9-0f8ee8d66492"
      },
      "execution_count": null,
      "outputs": [
        {
          "output_type": "stream",
          "name": "stdout",
          "text": [
            "[23 44 54 69 73 20]\n",
            "Element at index 2 is: 54\n",
            "Last element of array : 20\n",
            "[[1 2 3]\n",
            " [9 4 6]\n",
            " [4 4 0]]\n",
            "Element at row=2 and column=1 is: 4\n",
            "entire column 1: [2 4 4]\n",
            "Entire row2: [4 4 0]\n",
            "[23 54 73]\n",
            "first 3 elements: [23 44 54]\n",
            "every second element: [23 54 73]\n",
            "Last 3 elements: [69 73 20]\n",
            "elements from row=0 to col=1:\n",
            " [[2 3]\n",
            " [4 6]]\n",
            "elements of all rows and every 2nd column:\n",
            " [[1 3]\n",
            " [9 6]\n",
            " [4 0]]\n",
            "all columns, every 2nd row:\n",
            " [[1 2 3]\n",
            " [4 4 0]]\n"
          ]
        }
      ]
    },
    {
      "cell_type": "markdown",
      "source": [
        "Shape manipulation (reshape, flatten, transpose)\n"
      ],
      "metadata": {
        "id": "83Bz8BXA_eLS"
      }
    },
    {
      "cell_type": "code",
      "source": [
        "import numpy as np\n",
        "arr = np.array([1, 2, 3, 4, 5, 6])\n",
        "print(\"Original array:\", arr)\n",
        "\n",
        "# Reshape to 2 rows, 3 columns\n",
        "arr_reshaped = arr.reshape(2, 3)\n",
        "print(\"Reshaped array (2x3):\\n\", arr_reshaped)\n",
        "arr2d = np.array([[1, 2, 3],\n",
        "                  [4, 5, 6]])\n",
        "#flatten()\n",
        "flat_arr = arr2d.flatten()\n",
        "print(\"Flattened array:\", flat_arr)\n",
        "\n",
        "#transpose()\n",
        "arr_transpose = arr2d.transpose()\n",
        "print(\"Original array:\\n\", arr2d)\n",
        "print(\"Transposed array:\\n\", arr_transpose)\n",
        "\n"
      ],
      "metadata": {
        "colab": {
          "base_uri": "https://localhost:8080/"
        },
        "id": "C2YhkWyF_dAN",
        "outputId": "fed045b4-1eaa-44a0-f6a8-94b6022a1b7f"
      },
      "execution_count": null,
      "outputs": [
        {
          "output_type": "stream",
          "name": "stdout",
          "text": [
            "Original array: [1 2 3 4 5 6]\n",
            "Reshaped array (2x3):\n",
            " [[1 2 3]\n",
            " [4 5 6]]\n",
            "Flattened array: [1 2 3 4 5 6]\n",
            "Original array:\n",
            " [[1 2 3]\n",
            " [4 5 6]]\n",
            "Transposed array:\n",
            " [[1 4]\n",
            " [2 5]\n",
            " [3 6]]\n"
          ]
        }
      ]
    },
    {
      "cell_type": "markdown",
      "source": [
        "Math ops (mean, std, sum, dot, matmul)\n",
        "\n"
      ],
      "metadata": {
        "id": "pa2uhEtIhG0C"
      }
    },
    {
      "cell_type": "code",
      "source": [
        "import numpy as np\n",
        "array=np.array([[1,2],[3,4]])\n",
        "print(array)\n",
        "#mean\n",
        "print(\"Mean of all elements:\\n\",np.mean(array))\n",
        "print(\"Mean along columns\\n\",np.mean(array, axis=0))\n",
        "print(\"Mean along rows:\\n\",np.mean(array, axis=1))\n",
        "\n",
        "#sum\n",
        "print(\"sum of all elements:\\n\",np.sum(array))\n",
        "print(\"sum along columns:\\n\",np.sum(array,axis=0))\n",
        "print(\"sum along rows:\\n\",np.sum(array,axis=1))\n",
        "\n",
        "#std\n",
        "print(np.std(array))\n",
        "\n",
        "#dot\n",
        "x=np.array([2,3])\n",
        "y=np.array([4,5])\n",
        "print(np.dot(x,y))\n",
        "\n",
        "#matmul\n",
        "A = np.array([[3, 2], [3, 1]])\n",
        "B = np.array([[5, 7], [2, 9]])\n",
        "print(\"Using matmul:\\n\",np.matmul(A, B))\n",
        "print(\"Using @ operator:\\n\",A @ B)"
      ],
      "metadata": {
        "id": "Fa-ImIi9gpBz",
        "colab": {
          "base_uri": "https://localhost:8080/"
        },
        "outputId": "27e59eec-ce7b-47de-9e19-a07584f4b921"
      },
      "execution_count": null,
      "outputs": [
        {
          "output_type": "stream",
          "name": "stdout",
          "text": [
            "[[1 2]\n",
            " [3 4]]\n",
            "Mean of all elements:\n",
            " 2.5\n",
            "Mean along columns\n",
            " [2. 3.]\n",
            "Mean along rows:\n",
            " [1.5 3.5]\n",
            "sum of all elements:\n",
            " 10\n",
            "sum along columns:\n",
            " [4 6]\n",
            "sum along rows:\n",
            " [3 7]\n",
            "1.118033988749895\n",
            "23\n",
            "Using matmul:\n",
            " [[19 39]\n",
            " [17 30]]\n",
            "Using @ operator:\n",
            " [[19 39]\n",
            " [17 30]]\n"
          ]
        }
      ]
    },
    {
      "cell_type": "markdown",
      "source": [
        "Random module (rand, randn, randint, choice)\n"
      ],
      "metadata": {
        "id": "chwZuvgKM5oT"
      }
    },
    {
      "cell_type": "code",
      "source": [
        "import numpy as np\n",
        "\n",
        "print(\"rand(3):\", np.random.rand(3))\n",
        "print(\"rand(2, 3):\\n\", np.random.rand(2, 3))\n",
        "\n",
        "print(\"randn(3):\", np.random.randn(3))\n",
        "print(\"randn(2, 3):\\n\", np.random.randn(2, 3))\n",
        "\n",
        "print(\"randint:\", np.random.randint(1, 10))\n",
        "print(\"randint array:\", np.random.randint(1, 10, size=(2, 3)))\n",
        "\n",
        "arr = np.array([10, 20, 30, 40, 50])\n",
        "print(\"choice single:\", np.random.choice(arr))\n",
        "print(\"choice multiple:\", np.random.choice(arr, size=3))\n",
        "print(\"choice with replacement:\", np.random.choice(arr, size=3, replace=True))\n",
        "print(\"choice without replacement:\", np.random.choice(arr, size=3, replace=False))\n"
      ],
      "metadata": {
        "colab": {
          "base_uri": "https://localhost:8080/"
        },
        "id": "kOvQpZC0MOtY",
        "outputId": "2d2541fc-5494-4ac6-fef7-475248a0fde8"
      },
      "execution_count": null,
      "outputs": [
        {
          "output_type": "stream",
          "name": "stdout",
          "text": [
            "rand(3): [0.86240648 0.51332866 0.17683698]\n",
            "rand(2, 3):\n",
            " [[0.93130088 0.55163364 0.17923929]\n",
            " [0.07717853 0.4677929  0.25818243]]\n",
            "randn(3): [ 1.01303862  0.34277699 -0.67713747]\n",
            "randn(2, 3):\n",
            " [[ 0.59617545 -0.47835531 -0.28631195]\n",
            " [ 0.40839203 -0.41122184 -0.66545498]]\n",
            "randint: 6\n",
            "randint array: [[9 2 4]\n",
            " [4 5 2]]\n",
            "choice single: 20\n",
            "choice multiple: [40 30 20]\n",
            "choice with replacement: [10 30 20]\n",
            "choice without replacement: [30 10 40]\n"
          ]
        }
      ]
    }
  ]
}